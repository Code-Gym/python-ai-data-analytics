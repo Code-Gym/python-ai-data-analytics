{
 "cells": [
  {
   "cell_type": "markdown",
   "id": "fbfb7ad6-297e-4c0d-a0c5-0564a3d0406c",
   "metadata": {},
   "source": [
    "# 透過AI與資料對話"
   ]
  },
  {
   "cell_type": "markdown",
   "id": "ecd1ff8a-ee8c-41a3-b0a6-74c6731f1c50",
   "metadata": {},
   "source": [
    "## 設定Open AI API key"
   ]
  },
  {
   "cell_type": "code",
   "execution_count": null,
   "id": "242ecd76-d0d4-4243-87e0-2460243ab5e8",
   "metadata": {},
   "outputs": [],
   "source": [
    "import os\n",
    "\n",
    "os.environ['OPENAI_API_KEY'] = 'YOUR API KEY'"
   ]
  },
  {
   "cell_type": "markdown",
   "id": "ccc96a01-6848-453e-9f55-ec898083587e",
   "metadata": {},
   "source": [
    "## 匯入CSV與資料對話\n",
    "\n",
    "安裝pandasai指令\n",
    "\n",
    "pip install pandasai"
   ]
  },
  {
   "cell_type": "code",
   "execution_count": 15,
   "id": "b7f84649-b34b-43c2-9049-44d6c2b9275f",
   "metadata": {},
   "outputs": [
    {
     "name": "stdout",
     "output_type": "stream",
     "text": [
      "The restaurant with the most customers in January 2016 is rest4.\n",
      "The number of customers for rest4 in January 2017 is less than in January 2016.\n"
     ]
    }
   ],
   "source": [
    "import pandas as pd\n",
    "from pandasai import Agent\n",
    "from pandasai.llm import OpenAI\n",
    "\n",
    "llm = OpenAI(api_token=os.environ['OPENAI_API_KEY'])\n",
    "df = pd.read_csv('/Users/ryan/demo/RestaurantVisitors.csv')\n",
    "agent = Agent(\n",
    "    df,\n",
    "    description='DataFrame 是一個餐廳來客數的資料，總共有四間餐廳，對應的餐廳名稱分別是rest1, rest2, rest3, rest4，\\\n",
    "    每一筆資料則是日期當天的來客數，最後一個欄位total 是四間餐廳來客數的總和',\n",
    "    config={'llm':llm}\n",
    ")\n",
    "query1 = '請幫我計算出哪一間餐廳2016年1月來客數最多'\n",
    "response1 = agent.chat(query1)\n",
    "print(response1)\n",
    "\n",
    "query2 = '請告訴我這間餐廳2017年1月的來客數比去年多還是少'\n",
    "response2 = agent.chat(query2)\n",
    "print(response2)\n",
    "\n"
   ]
  },
  {
   "cell_type": "code",
   "execution_count": null,
   "id": "14a532ac-016a-4dbe-b03b-592bd5eb83e5",
   "metadata": {},
   "outputs": [],
   "source": []
  },
  {
   "cell_type": "code",
   "execution_count": null,
   "id": "24164a11-025c-4e8d-b34a-1579a73bccb4",
   "metadata": {},
   "outputs": [],
   "source": []
  },
  {
   "cell_type": "code",
   "execution_count": null,
   "id": "879d4ba6-934c-434d-ac2a-fee4229d38ab",
   "metadata": {},
   "outputs": [],
   "source": []
  },
  {
   "cell_type": "code",
   "execution_count": null,
   "id": "fdd62de0-b744-4de1-87b2-e3d1da7b5323",
   "metadata": {},
   "outputs": [],
   "source": []
  },
  {
   "cell_type": "code",
   "execution_count": null,
   "id": "1e6cf5cf-1c17-4649-aaf8-42a651298837",
   "metadata": {},
   "outputs": [],
   "source": []
  },
  {
   "cell_type": "code",
   "execution_count": null,
   "id": "040c3559-8a14-405b-80d4-762af5328b2c",
   "metadata": {},
   "outputs": [],
   "source": []
  },
  {
   "cell_type": "code",
   "execution_count": null,
   "id": "23cd2313-9a5c-4ed4-b037-5ef23ba35760",
   "metadata": {},
   "outputs": [],
   "source": []
  },
  {
   "cell_type": "code",
   "execution_count": null,
   "id": "df2fde75-d96d-4a9a-9982-522c935eee53",
   "metadata": {},
   "outputs": [],
   "source": []
  },
  {
   "cell_type": "code",
   "execution_count": null,
   "id": "bf269289-11e8-4153-87c0-fa38988a430b",
   "metadata": {},
   "outputs": [],
   "source": []
  },
  {
   "cell_type": "code",
   "execution_count": null,
   "id": "ea033634-ccb6-4a30-9561-f95a3b21245a",
   "metadata": {},
   "outputs": [],
   "source": []
  },
  {
   "cell_type": "code",
   "execution_count": null,
   "id": "12538308-ef3d-431f-ae32-40326fe514de",
   "metadata": {},
   "outputs": [],
   "source": []
  },
  {
   "cell_type": "code",
   "execution_count": null,
   "id": "83e534fd-f2b4-4996-a6bf-1cd55e123a4f",
   "metadata": {},
   "outputs": [],
   "source": []
  },
  {
   "cell_type": "code",
   "execution_count": null,
   "id": "f0f40499-d0ea-490c-9e3c-3fb02ba025b9",
   "metadata": {},
   "outputs": [],
   "source": []
  },
  {
   "cell_type": "code",
   "execution_count": null,
   "id": "a9c4d02d-565d-46c7-aad7-4ab96b048808",
   "metadata": {},
   "outputs": [],
   "source": []
  },
  {
   "cell_type": "code",
   "execution_count": null,
   "id": "c0a32970-3d7b-472d-a201-1890236519c3",
   "metadata": {},
   "outputs": [],
   "source": []
  },
  {
   "cell_type": "code",
   "execution_count": null,
   "id": "d1983ac1-2d1d-44ef-b7a4-4a471a09abd6",
   "metadata": {},
   "outputs": [],
   "source": []
  },
  {
   "cell_type": "code",
   "execution_count": null,
   "id": "c2400f57-6dca-420e-b3ad-8535929df274",
   "metadata": {},
   "outputs": [],
   "source": []
  }
 ],
 "metadata": {
  "kernelspec": {
   "display_name": "Python 3 (ipykernel)",
   "language": "python",
   "name": "python3"
  },
  "language_info": {
   "codemirror_mode": {
    "name": "ipython",
    "version": 3
   },
   "file_extension": ".py",
   "mimetype": "text/x-python",
   "name": "python",
   "nbconvert_exporter": "python",
   "pygments_lexer": "ipython3",
   "version": "3.11.7"
  }
 },
 "nbformat": 4,
 "nbformat_minor": 5
}
